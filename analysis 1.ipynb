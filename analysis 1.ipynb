{
 "cells": [
  {
   "cell_type": "code",
   "execution_count": 2,
   "id": "f06dba07",
   "metadata": {},
   "outputs": [],
   "source": [
    "import numpy as np \n",
    "import pandas as pd \n",
    "import matplotlib.pyplot as plt # visualizing data\n",
    "%matplotlib inline\n",
    "import seaborn as sns"
   ]
  },
  {
   "cell_type": "code",
   "execution_count": 3,
   "id": "4025182f",
   "metadata": {},
   "outputs": [],
   "source": [
    "df = pd.read_csv('2008 best eco.csv',encoding= 'unicode_escape')"
   ]
  },
  {
   "cell_type": "code",
   "execution_count": 4,
   "id": "c1fa4d10",
   "metadata": {},
   "outputs": [
    {
     "data": {
      "text/html": [
       "<div>\n",
       "<style scoped>\n",
       "    .dataframe tbody tr th:only-of-type {\n",
       "        vertical-align: middle;\n",
       "    }\n",
       "\n",
       "    .dataframe tbody tr th {\n",
       "        vertical-align: top;\n",
       "    }\n",
       "\n",
       "    .dataframe thead th {\n",
       "        text-align: right;\n",
       "    }\n",
       "</style>\n",
       "<table border=\"1\" class=\"dataframe\">\n",
       "  <thead>\n",
       "    <tr style=\"text-align: right;\">\n",
       "      <th></th>\n",
       "      <th>POS</th>\n",
       "      <th>Player</th>\n",
       "      <th>Ov</th>\n",
       "      <th>Runs</th>\n",
       "      <th>Wkts</th>\n",
       "      <th>Dots</th>\n",
       "      <th>Econ</th>\n",
       "      <th>SR</th>\n",
       "      <th>Against</th>\n",
       "      <th>Venue</th>\n",
       "      <th>Match Date</th>\n",
       "    </tr>\n",
       "  </thead>\n",
       "  <tbody>\n",
       "    <tr>\n",
       "      <th>0</th>\n",
       "      <td>1</td>\n",
       "      <td>Mohammad Hafeez</td>\n",
       "      <td>4.0</td>\n",
       "      <td>8</td>\n",
       "      <td>1</td>\n",
       "      <td>14</td>\n",
       "      <td>2.00</td>\n",
       "      <td>24.0</td>\n",
       "      <td>DEC</td>\n",
       "      <td>Eden Gardens</td>\n",
       "      <td>20 April 2008</td>\n",
       "    </tr>\n",
       "    <tr>\n",
       "      <th>1</th>\n",
       "      <td>2</td>\n",
       "      <td>Ishant Sharma</td>\n",
       "      <td>4.0</td>\n",
       "      <td>9</td>\n",
       "      <td>2</td>\n",
       "      <td>14</td>\n",
       "      <td>2.25</td>\n",
       "      <td>12.0</td>\n",
       "      <td>RCB</td>\n",
       "      <td>M. Chinnaswamy Stadium</td>\n",
       "      <td>18 April 2008</td>\n",
       "    </tr>\n",
       "    <tr>\n",
       "      <th>2</th>\n",
       "      <td>3</td>\n",
       "      <td>Brett Lee</td>\n",
       "      <td>4.0</td>\n",
       "      <td>9</td>\n",
       "      <td>1</td>\n",
       "      <td>17</td>\n",
       "      <td>2.25</td>\n",
       "      <td>24.0</td>\n",
       "      <td>MI</td>\n",
       "      <td>IS Bindra Stadium</td>\n",
       "      <td>25 April 2008</td>\n",
       "    </tr>\n",
       "    <tr>\n",
       "      <th>3</th>\n",
       "      <td>4</td>\n",
       "      <td>Shaun Pollock</td>\n",
       "      <td>4.0</td>\n",
       "      <td>9</td>\n",
       "      <td>1</td>\n",
       "      <td>17</td>\n",
       "      <td>2.25</td>\n",
       "      <td>24.0</td>\n",
       "      <td>CSK</td>\n",
       "      <td>Wankhede Stadium</td>\n",
       "      <td>14 May 2008</td>\n",
       "    </tr>\n",
       "    <tr>\n",
       "      <th>4</th>\n",
       "      <td>5</td>\n",
       "      <td>Dominic Thornely</td>\n",
       "      <td>3.0</td>\n",
       "      <td>7</td>\n",
       "      <td>2</td>\n",
       "      <td>12</td>\n",
       "      <td>2.33</td>\n",
       "      <td>9.0</td>\n",
       "      <td>KKR</td>\n",
       "      <td>Wankhede Stadium</td>\n",
       "      <td>16 May 2008</td>\n",
       "    </tr>\n",
       "  </tbody>\n",
       "</table>\n",
       "</div>"
      ],
      "text/plain": [
       "   POS            Player   Ov  Runs  Wkts  Dots  Econ    SR Against  \\\n",
       "0    1   Mohammad Hafeez  4.0     8     1    14  2.00  24.0     DEC   \n",
       "1    2     Ishant Sharma  4.0     9     2    14  2.25  12.0     RCB   \n",
       "2    3         Brett Lee  4.0     9     1    17  2.25  24.0      MI   \n",
       "3    4     Shaun Pollock  4.0     9     1    17  2.25  24.0     CSK   \n",
       "4    5  Dominic Thornely  3.0     7     2    12  2.33   9.0     KKR   \n",
       "\n",
       "                    Venue     Match Date  \n",
       "0            Eden Gardens  20 April 2008  \n",
       "1  M. Chinnaswamy Stadium  18 April 2008  \n",
       "2       IS Bindra Stadium  25 April 2008  \n",
       "3        Wankhede Stadium    14 May 2008  \n",
       "4        Wankhede Stadium    16 May 2008  "
      ]
     },
     "execution_count": 4,
     "metadata": {},
     "output_type": "execute_result"
    }
   ],
   "source": [
    "df.head()"
   ]
  },
  {
   "cell_type": "code",
   "execution_count": 5,
   "id": "c49add9f",
   "metadata": {},
   "outputs": [
    {
     "data": {
      "text/html": [
       "<div>\n",
       "<style scoped>\n",
       "    .dataframe tbody tr th:only-of-type {\n",
       "        vertical-align: middle;\n",
       "    }\n",
       "\n",
       "    .dataframe tbody tr th {\n",
       "        vertical-align: top;\n",
       "    }\n",
       "\n",
       "    .dataframe thead th {\n",
       "        text-align: right;\n",
       "    }\n",
       "</style>\n",
       "<table border=\"1\" class=\"dataframe\">\n",
       "  <thead>\n",
       "    <tr style=\"text-align: right;\">\n",
       "      <th></th>\n",
       "      <th>POS</th>\n",
       "      <th>Player</th>\n",
       "      <th>Ov</th>\n",
       "      <th>Runs</th>\n",
       "      <th>Wkts</th>\n",
       "      <th>Dots</th>\n",
       "      <th>Econ</th>\n",
       "      <th>SR</th>\n",
       "      <th>Against</th>\n",
       "      <th>Venue</th>\n",
       "      <th>Match Date</th>\n",
       "    </tr>\n",
       "  </thead>\n",
       "  <tbody>\n",
       "    <tr>\n",
       "      <th>145</th>\n",
       "      <td>146</td>\n",
       "      <td>Ishant Sharma</td>\n",
       "      <td>3.0</td>\n",
       "      <td>18</td>\n",
       "      <td>0</td>\n",
       "      <td>6</td>\n",
       "      <td>6.00</td>\n",
       "      <td>0.0</td>\n",
       "      <td>DC</td>\n",
       "      <td>Eden Gardens</td>\n",
       "      <td>13 May 2008</td>\n",
       "    </tr>\n",
       "    <tr>\n",
       "      <th>146</th>\n",
       "      <td>147</td>\n",
       "      <td>Piyush Chawla</td>\n",
       "      <td>4.0</td>\n",
       "      <td>25</td>\n",
       "      <td>3</td>\n",
       "      <td>12</td>\n",
       "      <td>6.25</td>\n",
       "      <td>8.0</td>\n",
       "      <td>RCB</td>\n",
       "      <td>M. Chinnaswamy Stadium</td>\n",
       "      <td>05 May 2008</td>\n",
       "    </tr>\n",
       "    <tr>\n",
       "      <th>147</th>\n",
       "      <td>148</td>\n",
       "      <td>Ashish Nehra</td>\n",
       "      <td>4.0</td>\n",
       "      <td>25</td>\n",
       "      <td>3</td>\n",
       "      <td>10</td>\n",
       "      <td>6.25</td>\n",
       "      <td>8.0</td>\n",
       "      <td>DC</td>\n",
       "      <td>DY Patil Stadium</td>\n",
       "      <td>04 May 2008</td>\n",
       "    </tr>\n",
       "    <tr>\n",
       "      <th>148</th>\n",
       "      <td>149</td>\n",
       "      <td>Ajit Agarkar</td>\n",
       "      <td>4.0</td>\n",
       "      <td>25</td>\n",
       "      <td>3</td>\n",
       "      <td>15</td>\n",
       "      <td>6.25</td>\n",
       "      <td>8.0</td>\n",
       "      <td>RCB</td>\n",
       "      <td>M. Chinnaswamy Stadium</td>\n",
       "      <td>18 April 2008</td>\n",
       "    </tr>\n",
       "    <tr>\n",
       "      <th>149</th>\n",
       "      <td>150</td>\n",
       "      <td>Albie Morkel</td>\n",
       "      <td>4.0</td>\n",
       "      <td>25</td>\n",
       "      <td>2</td>\n",
       "      <td>9</td>\n",
       "      <td>6.25</td>\n",
       "      <td>12.0</td>\n",
       "      <td>RR</td>\n",
       "      <td>DY Patil Stadium</td>\n",
       "      <td>01 June 2008</td>\n",
       "    </tr>\n",
       "  </tbody>\n",
       "</table>\n",
       "</div>"
      ],
      "text/plain": [
       "     POS         Player   Ov  Runs  Wkts  Dots  Econ    SR Against  \\\n",
       "145  146  Ishant Sharma  3.0    18     0     6  6.00   0.0      DC   \n",
       "146  147  Piyush Chawla  4.0    25     3    12  6.25   8.0     RCB   \n",
       "147  148   Ashish Nehra  4.0    25     3    10  6.25   8.0      DC   \n",
       "148  149   Ajit Agarkar  4.0    25     3    15  6.25   8.0     RCB   \n",
       "149  150   Albie Morkel  4.0    25     2     9  6.25  12.0      RR   \n",
       "\n",
       "                      Venue     Match Date  \n",
       "145            Eden Gardens    13 May 2008  \n",
       "146  M. Chinnaswamy Stadium    05 May 2008  \n",
       "147        DY Patil Stadium    04 May 2008  \n",
       "148  M. Chinnaswamy Stadium  18 April 2008  \n",
       "149        DY Patil Stadium   01 June 2008  "
      ]
     },
     "execution_count": 5,
     "metadata": {},
     "output_type": "execute_result"
    }
   ],
   "source": [
    "df.tail()"
   ]
  },
  {
   "cell_type": "code",
   "execution_count": 6,
   "id": "6874d65e",
   "metadata": {},
   "outputs": [
    {
     "data": {
      "text/plain": [
       "<bound method DataFrame.info of      POS            Player   Ov  Runs  Wkts  Dots  Econ    SR Against  \\\n",
       "0      1   Mohammad Hafeez  4.0     8     1    14  2.00  24.0     DEC   \n",
       "1      2     Ishant Sharma  4.0     9     2    14  2.25  12.0     RCB   \n",
       "2      3         Brett Lee  4.0     9     1    17  2.25  24.0      MI   \n",
       "3      4     Shaun Pollock  4.0     9     1    17  2.25  24.0     CSK   \n",
       "4      5  Dominic Thornely  3.0     7     2    12  2.33   9.0     KKR   \n",
       "..   ...               ...  ...   ...   ...   ...   ...   ...     ...   \n",
       "145  146     Ishant Sharma  3.0    18     0     6  6.00   0.0      DC   \n",
       "146  147     Piyush Chawla  4.0    25     3    12  6.25   8.0     RCB   \n",
       "147  148      Ashish Nehra  4.0    25     3    10  6.25   8.0      DC   \n",
       "148  149      Ajit Agarkar  4.0    25     3    15  6.25   8.0     RCB   \n",
       "149  150      Albie Morkel  4.0    25     2     9  6.25  12.0      RR   \n",
       "\n",
       "                      Venue     Match Date  \n",
       "0              Eden Gardens  20 April 2008  \n",
       "1    M. Chinnaswamy Stadium  18 April 2008  \n",
       "2         IS Bindra Stadium  25 April 2008  \n",
       "3          Wankhede Stadium    14 May 2008  \n",
       "4          Wankhede Stadium    16 May 2008  \n",
       "..                      ...            ...  \n",
       "145            Eden Gardens    13 May 2008  \n",
       "146  M. Chinnaswamy Stadium    05 May 2008  \n",
       "147        DY Patil Stadium    04 May 2008  \n",
       "148  M. Chinnaswamy Stadium  18 April 2008  \n",
       "149        DY Patil Stadium   01 June 2008  \n",
       "\n",
       "[150 rows x 11 columns]>"
      ]
     },
     "execution_count": 6,
     "metadata": {},
     "output_type": "execute_result"
    }
   ],
   "source": [
    "df.info"
   ]
  },
  {
   "cell_type": "code",
   "execution_count": 8,
   "id": "ac25440b",
   "metadata": {},
   "outputs": [
    {
     "data": {
      "text/plain": [
       "(150, 11)"
      ]
     },
     "execution_count": 8,
     "metadata": {},
     "output_type": "execute_result"
    }
   ],
   "source": [
    "df.shape"
   ]
  },
  {
   "cell_type": "code",
   "execution_count": 9,
   "id": "8628f8b0",
   "metadata": {},
   "outputs": [
    {
     "name": "stdout",
     "output_type": "stream",
     "text": [
      "<class 'pandas.core.frame.DataFrame'>\n",
      "RangeIndex: 150 entries, 0 to 149\n",
      "Data columns (total 11 columns):\n",
      " #   Column      Non-Null Count  Dtype  \n",
      "---  ------      --------------  -----  \n",
      " 0   POS         150 non-null    int64  \n",
      " 1   Player      150 non-null    object \n",
      " 2   Ov          150 non-null    float64\n",
      " 3   Runs        150 non-null    int64  \n",
      " 4   Wkts        150 non-null    int64  \n",
      " 5   Dots        150 non-null    int64  \n",
      " 6   Econ        150 non-null    float64\n",
      " 7   SR          150 non-null    float64\n",
      " 8   Against     150 non-null    object \n",
      " 9   Venue       150 non-null    object \n",
      " 10  Match Date  150 non-null    object \n",
      "dtypes: float64(3), int64(4), object(4)\n",
      "memory usage: 10.6+ KB\n"
     ]
    }
   ],
   "source": [
    "df.info()"
   ]
  },
  {
   "cell_type": "code",
   "execution_count": 10,
   "id": "fc7d3088",
   "metadata": {},
   "outputs": [
    {
     "data": {
      "text/plain": [
       "POS           0\n",
       "Player        0\n",
       "Ov            0\n",
       "Runs          0\n",
       "Wkts          0\n",
       "Dots          0\n",
       "Econ          0\n",
       "SR            0\n",
       "Against       0\n",
       "Venue         0\n",
       "Match Date    0\n",
       "dtype: int64"
      ]
     },
     "execution_count": 10,
     "metadata": {},
     "output_type": "execute_result"
    }
   ],
   "source": [
    "pd.isnull(df).sum()"
   ]
  },
  {
   "cell_type": "code",
   "execution_count": 15,
   "id": "598cd9c0",
   "metadata": {},
   "outputs": [
    {
     "data": {
      "text/plain": [
       "Index(['POS', 'Player', 'Ov', 'Runs', 'Wkts', 'Dots', 'Econ', 'SR', 'Against',\n",
       "       'Venue', 'Match Date'],\n",
       "      dtype='object')"
      ]
     },
     "execution_count": 15,
     "metadata": {},
     "output_type": "execute_result"
    }
   ],
   "source": [
    "df.columns"
   ]
  },
  {
   "cell_type": "code",
   "execution_count": 16,
   "id": "37eb98df",
   "metadata": {},
   "outputs": [
    {
     "data": {
      "text/plain": [
       "<bound method NDFrame.describe of      POS            Player   Ov  Runs  Wkts  Dots  Econ    SR Against  \\\n",
       "0      1   Mohammad Hafeez  4.0     8     1    14  2.00  24.0     DEC   \n",
       "1      2     Ishant Sharma  4.0     9     2    14  2.25  12.0     RCB   \n",
       "2      3         Brett Lee  4.0     9     1    17  2.25  24.0      MI   \n",
       "3      4     Shaun Pollock  4.0     9     1    17  2.25  24.0     CSK   \n",
       "4      5  Dominic Thornely  3.0     7     2    12  2.33   9.0     KKR   \n",
       "..   ...               ...  ...   ...   ...   ...   ...   ...     ...   \n",
       "145  146     Ishant Sharma  3.0    18     0     6  6.00   0.0      DC   \n",
       "146  147     Piyush Chawla  4.0    25     3    12  6.25   8.0     RCB   \n",
       "147  148      Ashish Nehra  4.0    25     3    10  6.25   8.0      DC   \n",
       "148  149      Ajit Agarkar  4.0    25     3    15  6.25   8.0     RCB   \n",
       "149  150      Albie Morkel  4.0    25     2     9  6.25  12.0      RR   \n",
       "\n",
       "                      Venue     Match Date  \n",
       "0              Eden Gardens  20 April 2008  \n",
       "1    M. Chinnaswamy Stadium  18 April 2008  \n",
       "2         IS Bindra Stadium  25 April 2008  \n",
       "3          Wankhede Stadium    14 May 2008  \n",
       "4          Wankhede Stadium    16 May 2008  \n",
       "..                      ...            ...  \n",
       "145            Eden Gardens    13 May 2008  \n",
       "146  M. Chinnaswamy Stadium    05 May 2008  \n",
       "147        DY Patil Stadium    04 May 2008  \n",
       "148  M. Chinnaswamy Stadium  18 April 2008  \n",
       "149        DY Patil Stadium   01 June 2008  \n",
       "\n",
       "[150 rows x 11 columns]>"
      ]
     },
     "execution_count": 16,
     "metadata": {},
     "output_type": "execute_result"
    }
   ],
   "source": [
    "df.describe"
   ]
  },
  {
   "cell_type": "code",
   "execution_count": 19,
   "id": "e4534324",
   "metadata": {},
   "outputs": [
    {
     "data": {
      "text/plain": [
       "<bound method NDFrame.describe of      POS            Player   Ov  Runs  Wkts  Dots  Econ    SR Against  \\\n",
       "0      1   Mohammad Hafeez  4.0     8     1    14  2.00  24.0     DEC   \n",
       "1      2     Ishant Sharma  4.0     9     2    14  2.25  12.0     RCB   \n",
       "2      3         Brett Lee  4.0     9     1    17  2.25  24.0      MI   \n",
       "3      4     Shaun Pollock  4.0     9     1    17  2.25  24.0     CSK   \n",
       "4      5  Dominic Thornely  3.0     7     2    12  2.33   9.0     KKR   \n",
       "..   ...               ...  ...   ...   ...   ...   ...   ...     ...   \n",
       "145  146     Ishant Sharma  3.0    18     0     6  6.00   0.0      DC   \n",
       "146  147     Piyush Chawla  4.0    25     3    12  6.25   8.0     RCB   \n",
       "147  148      Ashish Nehra  4.0    25     3    10  6.25   8.0      DC   \n",
       "148  149      Ajit Agarkar  4.0    25     3    15  6.25   8.0     RCB   \n",
       "149  150      Albie Morkel  4.0    25     2     9  6.25  12.0      RR   \n",
       "\n",
       "                      Venue     Match Date  \n",
       "0              Eden Gardens  20 April 2008  \n",
       "1    M. Chinnaswamy Stadium  18 April 2008  \n",
       "2         IS Bindra Stadium  25 April 2008  \n",
       "3          Wankhede Stadium    14 May 2008  \n",
       "4          Wankhede Stadium    16 May 2008  \n",
       "..                      ...            ...  \n",
       "145            Eden Gardens    13 May 2008  \n",
       "146  M. Chinnaswamy Stadium    05 May 2008  \n",
       "147        DY Patil Stadium    04 May 2008  \n",
       "148  M. Chinnaswamy Stadium  18 April 2008  \n",
       "149        DY Patil Stadium   01 June 2008  \n",
       "\n",
       "[150 rows x 11 columns]>"
      ]
     },
     "execution_count": 19,
     "metadata": {},
     "output_type": "execute_result"
    }
   ],
   "source": [
    "df.describe"
   ]
  },
  {
   "cell_type": "code",
   "execution_count": 23,
   "id": "8b0f7829",
   "metadata": {},
   "outputs": [
    {
     "data": {
      "image/png": "[encoded data removed]",
      "text/plain": [
       "<Figure size 504x360 with 1 Axes>"
      ]
     },
     "metadata": {},
     "output_type": "display_data"
    }
   ],
   "source": [
    "ax = sns.countplot(data = df, x = 'Wkts')\n",
    "\n",
    "sns.set(rc={'figure.figsize':(7,5)})\n",
    "for bars in ax.containers:\n",
    "    ax.bar_label(bars)"
   ]
  },
  {
   "cell_type": "code",
   "execution_count": 25,
   "id": "5ffc14a9",
   "metadata": {},
   "outputs": [
    {
     "data": {
      "image/png": "[encoded data removed]",
      "text/plain": [
       "<Figure size 504x360 with 1 Axes>"
      ]
     },
     "metadata": {},
     "output_type": "display_data"
    }
   ],
   "source": [
    "ax = sns.countplot(data = df, x = 'Ov')\n",
    "\n",
    "sns.set(rc={'figure.figsize':(7,5)})\n",
    "for bars in ax.containers:\n",
    "    ax.bar_label(bars)\n",
    "    \n",
    "    \n",
    "#it decribes shows that mostly players has delivered 4 overs."
   ]
  },
  {
   "cell_type": "code",
   "execution_count": 33,
   "id": "781ab78e",
   "metadata": {},
   "outputs": [
    {
     "data": {
      "image/png": "[encoded data removed]",
      "text/plain": [
       "<Figure size 1440x720 with 1 Axes>"
      ]
     },
     "metadata": {},
     "output_type": "display_data"
    }
   ],
   "source": [
    "ax=sns.countplot(data=df,x='Econ')\n",
    "sns.set(rc={'figure.figsize':(30,20)})\n",
    "for bars in ax.containers:\n",
    "        ax.bar_label(bars)"
   ]
  },
  {
   "cell_type": "code",
   "execution_count": 72,
   "id": "da5af057",
   "metadata": {},
   "outputs": [
    {
     "data": {
      "text/plain": [
       "POS                               16\n",
       "Player                  Yusuf Pathan\n",
       "Ov                               3.0\n",
       "Runs                               9\n",
       "Wkts                               0\n",
       "Dots                              10\n",
       "Econ                             3.0\n",
       "SR                               0.0\n",
       "Against                           MI\n",
       "Venue         Sawai Mansingh Stadium\n",
       "Match Date               26 May 2008\n",
       "Name: 15, dtype: object"
      ]
     },
     "execution_count": 72,
     "metadata": {},
     "output_type": "execute_result"
    }
   ],
   "source": [
    "df.loc[df['Wkts'].idxmin()]\n"
   ]
  },
  {
   "cell_type": "code",
   "execution_count": 55,
   "id": "112a98f4",
   "metadata": {},
   "outputs": [
    {
     "data": {
      "text/plain": [
       "POS                               22\n",
       "Player                 Sohail Tanvir\n",
       "Ov                               4.0\n",
       "Runs                              14\n",
       "Wkts                               6\n",
       "Dots                              16\n",
       "Econ                             3.5\n",
       "SR                               4.0\n",
       "Against                          CSK\n",
       "Venue         Sawai Mansingh Stadium\n",
       "Match Date               04 May 2008\n",
       "Name: 21, dtype: object"
      ]
     },
     "execution_count": 55,
     "metadata": {},
     "output_type": "execute_result"
    }
   ],
   "source": [
    "df.loc[df['Wkts'].idxmax()]"
   ]
  },
  {
   "cell_type": "code",
   "execution_count": null,
   "id": "2223ac08",
   "metadata": {},
   "outputs": [],
   "source": []
  },
  {
   "cell_type": "code",
   "execution_count": null,
   "id": "610caa0c",
   "metadata": {},
   "outputs": [],
   "source": []
  }
 ],
 "metadata": {
  "kernelspec": {
   "display_name": "Python 3 (ipykernel)",
   "language": "python",
   "name": "python3"
  },
  "language_info": {
   "codemirror_mode": {
    "name": "ipython",
    "version": 3
   },
   "file_extension": ".py",
   "mimetype": "text/x-python",
   "name": "python",
   "nbconvert_exporter": "python",
   "pygments_lexer": "ipython3",
   "version": "3.9.12"
  }
 },
 "nbformat": 4,
 "nbformat_minor": 5
}
